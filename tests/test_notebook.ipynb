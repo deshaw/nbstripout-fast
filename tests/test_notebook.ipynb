{
 "cells": [
  {
   "cell_type": "code",
   "execution_count": 21,
   "id": "6eb28cf1-16af-4bb5-9300-a6e5c38021cc",
   "metadata": {
    "execution": {
     "iopub.execute_input": "2025-06-06T00:31:13.074630Z",
     "iopub.status.busy": "2025-06-06T00:31:13.074347Z",
     "iopub.status.idle": "2025-06-06T00:31:13.080954Z",
     "shell.execute_reply": "2025-06-06T00:31:13.080554Z",
     "shell.execute_reply.started": "2025-06-06T00:31:13.074613Z"
    }
   },
   "outputs": [],
   "source": [
    "from tqdm import tqdm\n",
    "from IPython.display import display"
   ]
  },
  {
   "cell_type": "code",
   "execution_count": 22,
   "id": "f3d6ed14-712b-4cf5-9c9f-8e24aa3d5102",
   "metadata": {
    "execution": {
     "iopub.execute_input": "2025-06-06T00:31:13.272685Z",
     "iopub.status.busy": "2025-06-06T00:31:13.272395Z",
     "iopub.status.idle": "2025-06-06T00:31:13.281256Z",
     "shell.execute_reply": "2025-06-06T00:31:13.280858Z",
     "shell.execute_reply.started": "2025-06-06T00:31:13.272669Z"
    }
   },
   "outputs": [
    {
     "name": "stderr",
     "output_type": "stream",
     "text": [
      "\n",
      "\n",
      "100%|██████████| 6/6 [00:00<00:00, 127100.12it/s]\n"
     ]
    }
   ],
   "source": [
    "for i in tqdm(range(6)):\n",
    "    pass"
   ]
  },
  {
   "cell_type": "code",
   "execution_count": 23,
   "id": "b01a519c-3faf-49b4-a6a2-7fedab0f58c6",
   "metadata": {
    "execution": {
     "iopub.execute_input": "2025-06-06T00:31:13.433574Z",
     "iopub.status.busy": "2025-06-06T00:31:13.433308Z",
     "iopub.status.idle": "2025-06-06T00:31:13.443121Z",
     "shell.execute_reply": "2025-06-06T00:31:13.442756Z",
     "shell.execute_reply.started": "2025-06-06T00:31:13.433557Z"
    }
   },
   "outputs": [
    {
     "data": {
      "application/vnd.jupyter.widget-view+json": {
       "model_id": "4bd7f0934d2a436aa6936c1e51b0f136",
       "version_major": 2,
       "version_minor": 0
      },
      "text/plain": [
       "Output()"
      ]
     },
     "metadata": {},
     "output_type": "display_data"
    },
    {
     "name": "stderr",
     "output_type": "stream",
     "text": [
      "\n",
      "\n",
      "  0%|          | 0/6 [00:02<?, ?it/s]\u001b[A\u001b[A\n"
     ]
    }
   ],
   "source": [
    "display(widgets.Output())\n",
    "pbar = tqdm(total=6)"
   ]
  },
  {
   "cell_type": "code",
   "execution_count": 24,
   "id": "153102e6-f553-4cae-91e2-635d960ba34f",
   "metadata": {
    "execution": {
     "iopub.execute_input": "2025-06-06T00:31:14.299038Z",
     "iopub.status.busy": "2025-06-06T00:31:14.298772Z",
     "iopub.status.idle": "2025-06-06T00:31:14.308332Z",
     "shell.execute_reply": "2025-06-06T00:31:14.307968Z",
     "shell.execute_reply.started": "2025-06-06T00:31:14.299021Z"
    }
   },
   "outputs": [
    {
     "data": {
      "application/vnd.jupyter.widget-view+json": {
       "model_id": "ffe259c84ed14eb5b874545be345840f",
       "version_major": 2,
       "version_minor": 0
      },
      "text/plain": [
       "Output()"
      ]
     },
     "metadata": {},
     "output_type": "display_data"
    },
    {
     "name": "stdout",
     "output_type": "stream",
     "text": [
      "two\n"
     ]
    }
   ],
   "source": [
    "o = widgets.Output()\n",
    "display(o)\n",
    "with o:\n",
    "    print('one')\n",
    "print('two')"
   ]
  }
 ],
 "metadata": {
  "kernelspec": {
   "display_name": "Python 3 (ipykernel)",
   "language": "python",
   "name": "python3"
  },
  "language_info": {
   "codemirror_mode": {
    "name": "ipython",
    "version": 3
   },
   "file_extension": ".py",
   "mimetype": "text/x-python",
   "name": "python",
   "nbconvert_exporter": "python",
   "pygments_lexer": "ipython3",
   "version": "3.13.2"
  },
  "widgets": {
   "application/vnd.jupyter.widget-state+json": {
    "state": {
     "0823d891f1ef441c8d0ef896fd79cbdb": {
      "model_module": "@jupyter-widgets/output",
      "model_module_version": "1.0.0",
      "model_name": "OutputModel",
      "state": {
       "layout": "IPY_MODEL_e00abd0abe8441419eafe5fd0d33b08c",
       "outputs": [
        {
         "name": "stdout",
         "output_type": "stream",
         "text": "hi\n"
        }
       ]
      }
     },
     "08e20016e34042918fe2c6e6c31675d0": {
      "model_module": "@jupyter-widgets/output",
      "model_module_version": "1.0.0",
      "model_name": "OutputModel",
      "state": {
       "layout": "IPY_MODEL_4d64234e1b8446f3af0bbbb51abe419a"
      }
     },
     "0c8ff3b8a8824be686112a0f620c6ff1": {
      "model_module": "@jupyter-widgets/output",
      "model_module_version": "1.0.0",
      "model_name": "OutputModel",
      "state": {
       "layout": "IPY_MODEL_6628c0b4e05a4708a148c9959c2c4709"
      }
     },
     "1b094d42781e4715a703b116f7d7d0b0": {
      "model_module": "@jupyter-widgets/base",
      "model_module_version": "2.0.0",
      "model_name": "LayoutModel",
      "state": {}
     },
     "1c8abf85952d43aa88732ce69bef1339": {
      "model_module": "@jupyter-widgets/base",
      "model_module_version": "2.0.0",
      "model_name": "LayoutModel",
      "state": {}
     },
     "1f21551e63474ecd92e5049e86a7e08f": {
      "model_module": "@jupyter-widgets/output",
      "model_module_version": "1.0.0",
      "model_name": "OutputModel",
      "state": {
       "layout": "IPY_MODEL_1c8abf85952d43aa88732ce69bef1339"
      }
     },
     "21cd27ae29884ba4b8e8bbc53809603f": {
      "model_module": "@jupyter-widgets/output",
      "model_module_version": "1.0.0",
      "model_name": "OutputModel",
      "state": {
       "layout": "IPY_MODEL_1b094d42781e4715a703b116f7d7d0b0"
      }
     },
     "230a9ab29a5744c0b3d3a2c7864ca57f": {
      "model_module": "@jupyter-widgets/output",
      "model_module_version": "1.0.0",
      "model_name": "OutputModel",
      "state": {
       "layout": "IPY_MODEL_de34964ccad1439fabd7a87e755f4730",
       "outputs": [
        {
         "name": "stdout",
         "output_type": "stream",
         "text": "one\n"
        }
       ]
      }
     },
     "338af0c98175419ca9f1e06e5cc99265": {
      "model_module": "@jupyter-widgets/base",
      "model_module_version": "2.0.0",
      "model_name": "LayoutModel",
      "state": {}
     },
     "33c4f34c93aa40fd9d1f20ce6689c96c": {
      "model_module": "@jupyter-widgets/output",
      "model_module_version": "1.0.0",
      "model_name": "OutputModel",
      "state": {
       "layout": "IPY_MODEL_da4425037c8c495aa87724633ece0c7d"
      }
     },
     "381747e4a9614761ac2b99daee87656b": {
      "model_module": "@jupyter-widgets/base",
      "model_module_version": "2.0.0",
      "model_name": "LayoutModel",
      "state": {}
     },
     "3ba7cb48ab214e6fa58eb7481d02f35e": {
      "model_module": "@jupyter-widgets/output",
      "model_module_version": "1.0.0",
      "model_name": "OutputModel",
      "state": {
       "layout": "IPY_MODEL_455e3050bdaf4b25899929008106f4b5"
      }
     },
     "411e9f3a672b4428a9d5cd492cf922ab": {
      "model_module": "@jupyter-widgets/base",
      "model_module_version": "2.0.0",
      "model_name": "LayoutModel",
      "state": {}
     },
     "447173a683ec4438a2e7afb696b18556": {
      "model_module": "@jupyter-widgets/output",
      "model_module_version": "1.0.0",
      "model_name": "OutputModel",
      "state": {
       "layout": "IPY_MODEL_e175151117554cd19ebd9dcbfbea20fd"
      }
     },
     "455e3050bdaf4b25899929008106f4b5": {
      "model_module": "@jupyter-widgets/base",
      "model_module_version": "2.0.0",
      "model_name": "LayoutModel",
      "state": {}
     },
     "4bd7f0934d2a436aa6936c1e51b0f136": {
      "model_module": "@jupyter-widgets/output",
      "model_module_version": "1.0.0",
      "model_name": "OutputModel",
      "state": {
       "layout": "IPY_MODEL_381747e4a9614761ac2b99daee87656b"
      }
     },
     "4d64234e1b8446f3af0bbbb51abe419a": {
      "model_module": "@jupyter-widgets/base",
      "model_module_version": "2.0.0",
      "model_name": "LayoutModel",
      "state": {}
     },
     "4ffed5c5b55b4a7bb09121efbd9732c2": {
      "model_module": "@jupyter-widgets/base",
      "model_module_version": "2.0.0",
      "model_name": "LayoutModel",
      "state": {}
     },
     "52152d3db06847849eda583e805b5cd2": {
      "model_module": "@jupyter-widgets/output",
      "model_module_version": "1.0.0",
      "model_name": "OutputModel",
      "state": {
       "layout": "IPY_MODEL_338af0c98175419ca9f1e06e5cc99265",
       "outputs": [
        {
         "name": "stdout",
         "output_type": "stream",
         "text": "one\n"
        }
       ]
      }
     },
     "5792625c8b494314abf79473654d8a9c": {
      "model_module": "@jupyter-widgets/output",
      "model_module_version": "1.0.0",
      "model_name": "OutputModel",
      "state": {
       "layout": "IPY_MODEL_dedf5c22489d4f35817d74bbc62f63bd"
      }
     },
     "58666d4da46248e49cc0ea851cc1cda1": {
      "model_module": "@jupyter-widgets/base",
      "model_module_version": "2.0.0",
      "model_name": "LayoutModel",
      "state": {}
     },
     "58ddec787edb4fa6bd0329650381c25c": {
      "model_module": "@jupyter-widgets/base",
      "model_module_version": "2.0.0",
      "model_name": "LayoutModel",
      "state": {}
     },
     "5ae36e821c614897a26573647d9e5cb4": {
      "model_module": "@jupyter-widgets/output",
      "model_module_version": "1.0.0",
      "model_name": "OutputModel",
      "state": {
       "layout": "IPY_MODEL_58666d4da46248e49cc0ea851cc1cda1"
      }
     },
     "6628c0b4e05a4708a148c9959c2c4709": {
      "model_module": "@jupyter-widgets/base",
      "model_module_version": "2.0.0",
      "model_name": "LayoutModel",
      "state": {}
     },
     "687350627ed64455b0d85163bf5887b2": {
      "model_module": "@jupyter-widgets/output",
      "model_module_version": "1.0.0",
      "model_name": "OutputModel",
      "state": {
       "layout": "IPY_MODEL_95864d9262c44bbb92c1007b7d61a9f1",
       "outputs": [
        {
         "name": "stdout",
         "output_type": "stream",
         "text": "hi\n"
        }
       ]
      }
     },
     "68782e950ea14610ab274a354279b361": {
      "model_module": "@jupyter-widgets/output",
      "model_module_version": "1.0.0",
      "model_name": "OutputModel",
      "state": {
       "layout": "IPY_MODEL_7563aa9b8aaa4bbf9a5e14757102ff36"
      }
     },
     "7000eb1e88b84f33bb837718c4b89464": {
      "model_module": "@jupyter-widgets/base",
      "model_module_version": "2.0.0",
      "model_name": "LayoutModel",
      "state": {}
     },
     "7563aa9b8aaa4bbf9a5e14757102ff36": {
      "model_module": "@jupyter-widgets/base",
      "model_module_version": "2.0.0",
      "model_name": "LayoutModel",
      "state": {}
     },
     "7fa3edfe8150414b8b22dc50f7676a8d": {
      "model_module": "@jupyter-widgets/output",
      "model_module_version": "1.0.0",
      "model_name": "OutputModel",
      "state": {
       "layout": "IPY_MODEL_7000eb1e88b84f33bb837718c4b89464"
      }
     },
     "82fd829e753e478ab91553d586a3da43": {
      "model_module": "@jupyter-widgets/output",
      "model_module_version": "1.0.0",
      "model_name": "OutputModel",
      "state": {
       "layout": "IPY_MODEL_4ffed5c5b55b4a7bb09121efbd9732c2",
       "outputs": [
        {
         "name": "stdout",
         "output_type": "stream",
         "text": "one\n"
        }
       ]
      }
     },
     "95864d9262c44bbb92c1007b7d61a9f1": {
      "model_module": "@jupyter-widgets/base",
      "model_module_version": "2.0.0",
      "model_name": "LayoutModel",
      "state": {}
     },
     "c21b7256f7b9411bb12bd8c04030b556": {
      "model_module": "@jupyter-widgets/base",
      "model_module_version": "2.0.0",
      "model_name": "LayoutModel",
      "state": {}
     },
     "da4425037c8c495aa87724633ece0c7d": {
      "model_module": "@jupyter-widgets/base",
      "model_module_version": "2.0.0",
      "model_name": "LayoutModel",
      "state": {}
     },
     "da729f751f774d008730e4a3e3954ce7": {
      "model_module": "@jupyter-widgets/output",
      "model_module_version": "1.0.0",
      "model_name": "OutputModel",
      "state": {
       "layout": "IPY_MODEL_58ddec787edb4fa6bd0329650381c25c"
      }
     },
     "dd24a360616e4754b6127de5fa6f6d2f": {
      "model_module": "@jupyter-widgets/output",
      "model_module_version": "1.0.0",
      "model_name": "OutputModel",
      "state": {
       "layout": "IPY_MODEL_e47a41051aa0434bb57daff528e8d3f6"
      }
     },
     "de34964ccad1439fabd7a87e755f4730": {
      "model_module": "@jupyter-widgets/base",
      "model_module_version": "2.0.0",
      "model_name": "LayoutModel",
      "state": {}
     },
     "dedf5c22489d4f35817d74bbc62f63bd": {
      "model_module": "@jupyter-widgets/base",
      "model_module_version": "2.0.0",
      "model_name": "LayoutModel",
      "state": {}
     },
     "e00abd0abe8441419eafe5fd0d33b08c": {
      "model_module": "@jupyter-widgets/base",
      "model_module_version": "2.0.0",
      "model_name": "LayoutModel",
      "state": {}
     },
     "e175151117554cd19ebd9dcbfbea20fd": {
      "model_module": "@jupyter-widgets/base",
      "model_module_version": "2.0.0",
      "model_name": "LayoutModel",
      "state": {}
     },
     "e47a41051aa0434bb57daff528e8d3f6": {
      "model_module": "@jupyter-widgets/base",
      "model_module_version": "2.0.0",
      "model_name": "LayoutModel",
      "state": {}
     },
     "f38f7e86b1154f61921d5b8f2c90a6d9": {
      "model_module": "@jupyter-widgets/output",
      "model_module_version": "1.0.0",
      "model_name": "OutputModel",
      "state": {
       "layout": "IPY_MODEL_c21b7256f7b9411bb12bd8c04030b556"
      }
     },
     "ffe259c84ed14eb5b874545be345840f": {
      "model_module": "@jupyter-widgets/output",
      "model_module_version": "1.0.0",
      "model_name": "OutputModel",
      "state": {
       "layout": "IPY_MODEL_411e9f3a672b4428a9d5cd492cf922ab",
       "outputs": [
        {
         "name": "stdout",
         "output_type": "stream",
         "text": "one\n"
        }
       ]
      }
     }
    },
    "version_major": 2,
    "version_minor": 0
   }
  }
 },
 "nbformat": 4,
 "nbformat_minor": 5
}
